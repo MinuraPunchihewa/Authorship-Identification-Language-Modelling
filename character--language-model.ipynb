{
  "nbformat": 4,
  "nbformat_minor": 0,
  "metadata": {
    "colab": {
      "name": "DA Char.ipynb",
      "provenance": [],
      "collapsed_sections": [],
      "toc_visible": true,
      "include_colab_link": true
    },
    "kernelspec": {
      "name": "python3",
      "display_name": "Python 3"
    },
    "accelerator": "GPU"
  },
  "cells": [
    {
      "cell_type": "markdown",
      "metadata": {
        "id": "view-in-github",
        "colab_type": "text"
      },
      "source": [
        "<a href=\"https://colab.research.google.com/github/MinuraPunchihewa/Authorship-Identification-Language-Modelling/blob/main/character--language-model.ipynb\" target=\"_parent\"><img src=\"https://colab.research.google.com/assets/colab-badge.svg\" alt=\"Open In Colab\"/></a>"
      ]
    },
    {
      "cell_type": "markdown",
      "metadata": {
        "id": "VUKdrCRYClHY"
      },
      "source": [
        "# **Model Development**"
      ]
    },
    {
      "cell_type": "code",
      "metadata": {
        "id": "XJVoke4pNj-g",
        "colab": {
          "base_uri": "https://localhost:8080/",
          "height": 1000
        },
        "outputId": "c9fb9605-1fe7-4668-e06e-25f2db1e2370"
      },
      "source": [
        "!pip install textract"
      ],
      "execution_count": null,
      "outputs": [
        {
          "output_type": "stream",
          "text": [
            "Collecting textract\n",
            "  Downloading https://files.pythonhosted.org/packages/32/31/ef9451e6e48a1a57e337c5f20d4ef58c1a13d91560d2574c738b1320bb8d/textract-1.6.3-py3-none-any.whl\n",
            "Collecting extract-msg==0.23.1\n",
            "\u001b[?25l  Downloading https://files.pythonhosted.org/packages/a1/90/84485a914ed90adb5e87df17e626be04162fbba146dfecf34643659a4633/extract_msg-0.23.1-py2.py3-none-any.whl (45kB)\n",
            "\u001b[K     |████████████████████████████████| 51kB 5.6MB/s \n",
            "\u001b[?25hCollecting EbookLib==0.17.1\n",
            "\u001b[?25l  Downloading https://files.pythonhosted.org/packages/00/38/7d6ab2e569a9165249619d73b7bc6be0e713a899a3bc2513814b6598a84c/EbookLib-0.17.1.tar.gz (111kB)\n",
            "\u001b[K     |████████████████████████████████| 112kB 11.9MB/s \n",
            "\u001b[?25hCollecting pdfminer.six==20181108\n",
            "\u001b[?25l  Downloading https://files.pythonhosted.org/packages/8a/fd/6e8746e6965d1a7ea8e97253e3d79e625da5547e8f376f88de5d024bacb9/pdfminer.six-20181108-py2.py3-none-any.whl (5.6MB)\n",
            "\u001b[K     |████████████████████████████████| 5.6MB 14.4MB/s \n",
            "\u001b[?25hCollecting argcomplete==1.10.0\n",
            "  Downloading https://files.pythonhosted.org/packages/4d/82/f44c9661e479207348a979b1f6f063625d11dc4ca6256af053719bbb0124/argcomplete-1.10.0-py2.py3-none-any.whl\n",
            "Collecting six==1.12.0\n",
            "  Downloading https://files.pythonhosted.org/packages/73/fb/00a976f728d0d1fecfe898238ce23f502a721c0ac0ecfedb80e0d88c64e9/six-1.12.0-py2.py3-none-any.whl\n",
            "Collecting python-pptx==0.6.18\n",
            "\u001b[?25l  Downloading https://files.pythonhosted.org/packages/bf/86/eb979f7b0333ec769041aae36df8b9f1bd8bea5bbad44620663890dce561/python-pptx-0.6.18.tar.gz (8.9MB)\n",
            "\u001b[K     |████████████████████████████████| 8.9MB 47.4MB/s \n",
            "\u001b[?25hCollecting xlrd==1.2.0\n",
            "\u001b[?25l  Downloading https://files.pythonhosted.org/packages/b0/16/63576a1a001752e34bf8ea62e367997530dc553b689356b9879339cf45a4/xlrd-1.2.0-py2.py3-none-any.whl (103kB)\n",
            "\u001b[K     |████████████████████████████████| 112kB 52.8MB/s \n",
            "\u001b[?25hRequirement already satisfied: chardet==3.0.4 in /usr/local/lib/python3.6/dist-packages (from textract) (3.0.4)\n",
            "Collecting SpeechRecognition==3.8.1\n",
            "\u001b[?25l  Downloading https://files.pythonhosted.org/packages/26/e1/7f5678cd94ec1234269d23756dbdaa4c8cfaed973412f88ae8adf7893a50/SpeechRecognition-3.8.1-py2.py3-none-any.whl (32.8MB)\n",
            "\u001b[K     |████████████████████████████████| 32.8MB 97kB/s \n",
            "\u001b[?25hCollecting docx2txt==0.8\n",
            "  Downloading https://files.pythonhosted.org/packages/7d/7d/60ee3f2b16d9bfdfa72e8599470a2c1a5b759cb113c6fe1006be28359327/docx2txt-0.8.tar.gz\n",
            "Collecting beautifulsoup4==4.8.0\n",
            "\u001b[?25l  Downloading https://files.pythonhosted.org/packages/1a/b7/34eec2fe5a49718944e215fde81288eec1fa04638aa3fb57c1c6cd0f98c3/beautifulsoup4-4.8.0-py3-none-any.whl (97kB)\n",
            "\u001b[K     |████████████████████████████████| 102kB 12.5MB/s \n",
            "\u001b[?25hCollecting imapclient==2.1.0\n",
            "\u001b[?25l  Downloading https://files.pythonhosted.org/packages/dc/39/e1c2c2c6e2356ab6ea81fcfc0a74b044b311d6a91a45300811d9a6077ef7/IMAPClient-2.1.0-py2.py3-none-any.whl (73kB)\n",
            "\u001b[K     |████████████████████████████████| 81kB 12.6MB/s \n",
            "\u001b[?25hRequirement already satisfied: tzlocal==1.5.1 in /usr/local/lib/python3.6/dist-packages (from extract-msg==0.23.1->textract) (1.5.1)\n",
            "Collecting olefile==0.46\n",
            "\u001b[?25l  Downloading https://files.pythonhosted.org/packages/34/81/e1ac43c6b45b4c5f8d9352396a14144bba52c8fec72a80f425f6a4d653ad/olefile-0.46.zip (112kB)\n",
            "\u001b[K     |████████████████████████████████| 112kB 55.9MB/s \n",
            "\u001b[?25hRequirement already satisfied: lxml in /usr/local/lib/python3.6/dist-packages (from EbookLib==0.17.1->textract) (4.2.6)\n",
            "Requirement already satisfied: sortedcontainers in /usr/local/lib/python3.6/dist-packages (from pdfminer.six==20181108->textract) (2.2.2)\n",
            "Collecting pycryptodome\n",
            "\u001b[?25l  Downloading https://files.pythonhosted.org/packages/2b/6f/7e38d7c97fbbc3987539c804282c33f56b6b07381bf2390deead696440c5/pycryptodome-3.9.9-cp36-cp36m-manylinux1_x86_64.whl (13.7MB)\n",
            "\u001b[K     |████████████████████████████████| 13.7MB 255kB/s \n",
            "\u001b[?25hRequirement already satisfied: Pillow>=3.3.2 in /usr/local/lib/python3.6/dist-packages (from python-pptx==0.6.18->textract) (7.0.0)\n",
            "Collecting XlsxWriter>=0.5.7\n",
            "\u001b[?25l  Downloading https://files.pythonhosted.org/packages/6b/41/bf1aae04932d1eaffee1fc5f8b38ca47bbbf07d765129539bc4bcce1ce0c/XlsxWriter-1.3.7-py2.py3-none-any.whl (144kB)\n",
            "\u001b[K     |████████████████████████████████| 153kB 51.5MB/s \n",
            "\u001b[?25hCollecting soupsieve>=1.2\n",
            "  Downloading https://files.pythonhosted.org/packages/6f/8f/457f4a5390eeae1cc3aeab89deb7724c965be841ffca6cfca9197482e470/soupsieve-2.0.1-py3-none-any.whl\n",
            "Requirement already satisfied: pytz in /usr/local/lib/python3.6/dist-packages (from tzlocal==1.5.1->extract-msg==0.23.1->textract) (2018.9)\n",
            "Building wheels for collected packages: EbookLib, python-pptx, docx2txt, olefile\n",
            "  Building wheel for EbookLib (setup.py) ... \u001b[?25l\u001b[?25hdone\n",
            "  Created wheel for EbookLib: filename=EbookLib-0.17.1-cp36-none-any.whl size=38163 sha256=bb011cef7b18c4cc95a5c1bc7c96450d2590c1efd0d22dd86c4b5456cf983a2f\n",
            "  Stored in directory: /root/.cache/pip/wheels/84/11/01/951369cbbf8f96878786a1f4da68bd7ac19a5d945b38e03d54\n",
            "  Building wheel for python-pptx (setup.py) ... \u001b[?25l\u001b[?25hdone\n",
            "  Created wheel for python-pptx: filename=python_pptx-0.6.18-cp36-none-any.whl size=275707 sha256=1e059a6740ebabfecfeba29c6013c5c319cd9fef771635989c16a1ab934ec75b\n",
            "  Stored in directory: /root/.cache/pip/wheels/1f/1f/2c/29acca422b420a0b5210bd2cd7e9669804520d602d2462f20b\n",
            "  Building wheel for docx2txt (setup.py) ... \u001b[?25l\u001b[?25hdone\n",
            "  Created wheel for docx2txt: filename=docx2txt-0.8-cp36-none-any.whl size=3965 sha256=007fa717e80cb66c7986333891d1b387a2504f6171fe634506b5d1c72385f6f0\n",
            "  Stored in directory: /root/.cache/pip/wheels/b2/1f/26/a051209bbb77fc6bcfae2bb7e01fa0ff941b82292ab084d596\n",
            "  Building wheel for olefile (setup.py) ... \u001b[?25l\u001b[?25hdone\n",
            "  Created wheel for olefile: filename=olefile-0.46-py2.py3-none-any.whl size=35415 sha256=176bf84faa92cda7efc7588bc011e1f98b786f0480b12e694bd1fd01b12fee39\n",
            "  Stored in directory: /root/.cache/pip/wheels/4b/f4/11/bc4166107c27f07fd7bba707ffcb439619197638a1ac986df3\n",
            "Successfully built EbookLib python-pptx docx2txt olefile\n",
            "\u001b[31mERROR: nbclient 0.5.1 has requirement jupyter-client>=6.1.5, but you'll have jupyter-client 5.3.5 which is incompatible.\u001b[0m\n",
            "\u001b[31mERROR: google-colab 1.0.0 has requirement six~=1.15.0, but you'll have six 1.12.0 which is incompatible.\u001b[0m\n",
            "\u001b[31mERROR: datascience 0.10.6 has requirement folium==0.2.1, but you'll have folium 0.8.3 which is incompatible.\u001b[0m\n",
            "\u001b[31mERROR: albumentations 0.1.12 has requirement imgaug<0.2.7,>=0.2.5, but you'll have imgaug 0.2.9 which is incompatible.\u001b[0m\n",
            "Installing collected packages: six, imapclient, olefile, extract-msg, EbookLib, pycryptodome, pdfminer.six, argcomplete, XlsxWriter, python-pptx, xlrd, SpeechRecognition, docx2txt, soupsieve, beautifulsoup4, textract\n",
            "  Found existing installation: six 1.15.0\n",
            "    Uninstalling six-1.15.0:\n",
            "      Successfully uninstalled six-1.15.0\n",
            "  Found existing installation: xlrd 1.1.0\n",
            "    Uninstalling xlrd-1.1.0:\n",
            "      Successfully uninstalled xlrd-1.1.0\n",
            "  Found existing installation: beautifulsoup4 4.6.3\n",
            "    Uninstalling beautifulsoup4-4.6.3:\n",
            "      Successfully uninstalled beautifulsoup4-4.6.3\n",
            "Successfully installed EbookLib-0.17.1 SpeechRecognition-3.8.1 XlsxWriter-1.3.7 argcomplete-1.10.0 beautifulsoup4-4.8.0 docx2txt-0.8 extract-msg-0.23.1 imapclient-2.1.0 olefile-0.46 pdfminer.six-20181108 pycryptodome-3.9.9 python-pptx-0.6.18 six-1.12.0 soupsieve-2.0.1 textract-1.6.3 xlrd-1.2.0\n"
          ],
          "name": "stdout"
        },
        {
          "output_type": "display_data",
          "data": {
            "application/vnd.colab-display-data+json": {
              "pip_warning": {
                "packages": [
                  "six"
                ]
              }
            }
          },
          "metadata": {
            "tags": []
          }
        }
      ]
    },
    {
      "cell_type": "code",
      "metadata": {
        "id": "3Xy1fY9OoKnX",
        "colab": {
          "base_uri": "https://localhost:8080/"
        },
        "outputId": "5fd5a083-a6e5-4af8-c967-9dae0454376a"
      },
      "source": [
        "from google.colab import drive\n",
        "drive.mount('/content/drive')"
      ],
      "execution_count": null,
      "outputs": [
        {
          "output_type": "stream",
          "text": [
            "Mounted at /content/drive\n"
          ],
          "name": "stdout"
        }
      ]
    },
    {
      "cell_type": "code",
      "metadata": {
        "id": "_0QgX8SMFYDl",
        "colab": {
          "base_uri": "https://localhost:8080/"
        },
        "outputId": "f861f023-e56f-49af-b4fc-a2ddc98d2801"
      },
      "source": [
        "import numpy as np\n",
        "\n",
        "from sklearn.model_selection import train_test_split \n",
        "\n",
        "import tensorflow as tf\n",
        "from tensorflow import keras\n",
        "from tensorflow.keras.preprocessing.text import Tokenizer\n",
        "from tensorflow.keras.preprocessing.sequence import pad_sequences\n",
        "\n",
        "import textract\n",
        "\n",
        "import nltk\n",
        "nltk.download('punkt')"
      ],
      "execution_count": null,
      "outputs": [
        {
          "output_type": "stream",
          "text": [
            "[nltk_data] Downloading package punkt to /root/nltk_data...\n",
            "[nltk_data]   Unzipping tokenizers/punkt.zip.\n"
          ],
          "name": "stdout"
        },
        {
          "output_type": "execute_result",
          "data": {
            "text/plain": [
              "True"
            ]
          },
          "metadata": {
            "tags": []
          },
          "execution_count": 3
        }
      ]
    },
    {
      "cell_type": "code",
      "metadata": {
        "id": "iNLKijoeFbjX"
      },
      "source": [
        "# extract the data\n",
        "lasantha_kularatna = textract.process('/content/drive/My Drive/Model/Lasantha Kularatna (10 Articles).docx')\n",
        "amanda_abeysooriya = textract.process('/content/drive/My Drive/Model/Amanda Abeysooriya (10 Articles).docx')\n",
        "dinesh_asanka = textract.process('/content/drive/My Drive/Model/Dinesh Asanka (21 Articles).docx')"
      ],
      "execution_count": null,
      "outputs": []
    },
    {
      "cell_type": "code",
      "metadata": {
        "id": "CXgQTSGcFtoN"
      },
      "source": [
        "# decode the data\n",
        "lk_sentences = nltk.tokenize.sent_tokenize(lasantha_kularatna.decode())\n",
        "aa_sentences = nltk.tokenize.sent_tokenize(amanda_abeysooriya.decode())\n",
        "da_sentences = nltk.tokenize.sent_tokenize(dinesh_asanka.decode())"
      ],
      "execution_count": null,
      "outputs": []
    },
    {
      "cell_type": "code",
      "metadata": {
        "id": "wOM0ZHOKC-hS",
        "colab": {
          "base_uri": "https://localhost:8080/"
        },
        "outputId": "867de884-00c8-4ffd-be41-5330b4a2dec5"
      },
      "source": [
        "len(da_sentences)"
      ],
      "execution_count": null,
      "outputs": [
        {
          "output_type": "execute_result",
          "data": {
            "text/plain": [
              "1302"
            ]
          },
          "metadata": {
            "tags": []
          },
          "execution_count": 6
        }
      ]
    },
    {
      "cell_type": "code",
      "metadata": {
        "id": "LYlsj2gU-5BR"
      },
      "source": [
        "# combine all data to feed tokenizer\n",
        "all_sentences = lk_sentences + aa_sentences + da_sentences"
      ],
      "execution_count": null,
      "outputs": []
    },
    {
      "cell_type": "code",
      "metadata": {
        "id": "Jpeu_tDVF32_"
      },
      "source": [
        "# fit the tokenizer\n",
        "tokenizer = Tokenizer(oov_token = '<OOV>', filters='\\t\\n', char_level = True)\n",
        "tokenizer.fit_on_texts(all_sentences)"
      ],
      "execution_count": null,
      "outputs": []
    },
    {
      "cell_type": "code",
      "metadata": {
        "id": "f0BSInGMGASL"
      },
      "source": [
        "# store the total number of characters\n",
        "word_index = tokenizer.word_index\n",
        "total_chars = len(tokenizer.word_index) + 1"
      ],
      "execution_count": null,
      "outputs": []
    },
    {
      "cell_type": "code",
      "metadata": {
        "id": "h8Gc8NlCzcoK",
        "colab": {
          "base_uri": "https://localhost:8080/"
        },
        "outputId": "a5706313-36c9-464a-d653-c73f3db06504"
      },
      "source": [
        "print(total_chars)"
      ],
      "execution_count": null,
      "outputs": [
        {
          "output_type": "stream",
          "text": [
            "130\n"
          ],
          "name": "stdout"
        }
      ]
    },
    {
      "cell_type": "code",
      "metadata": {
        "id": "wXwi0_DCZ9Q-"
      },
      "source": [
        "# find the maximum length of the sentences\n",
        "max_len = len(max(all_sentences, key=len))"
      ],
      "execution_count": null,
      "outputs": []
    },
    {
      "cell_type": "code",
      "metadata": {
        "id": "QJWKkmY2zeNi",
        "colab": {
          "base_uri": "https://localhost:8080/"
        },
        "outputId": "cf631d43-a4ae-4d71-d0f2-9d2fb5290414"
      },
      "source": [
        "#display max length\n",
        "print(max_len)"
      ],
      "execution_count": null,
      "outputs": [
        {
          "output_type": "stream",
          "text": [
            "875\n"
          ],
          "name": "stdout"
        }
      ]
    },
    {
      "cell_type": "code",
      "metadata": {
        "id": "dh7u2fvMzf6A"
      },
      "source": [
        "import pickle\n",
        "\n",
        "with open('/content/drive/My Drive/da_tokenizer.pickle', 'wb') as handle:\n",
        "    pickle.dump(tokenizer, handle, protocol=pickle.HIGHEST_PROTOCOL)"
      ],
      "execution_count": null,
      "outputs": []
    },
    {
      "cell_type": "code",
      "metadata": {
        "id": "Kr2nQBxmGTLG"
      },
      "source": [
        "# define function to split sequences to inputs and labels\n",
        "def split_sequences(sentences, max_length):\n",
        "  #split sentences to sub_sequences\n",
        "  input_sequences = []\n",
        "  for line in sentences:\n",
        "    token_list = tokenizer.texts_to_sequences([line])[0]\n",
        "    for i in range(0, len(token_list)):\n",
        "      n_gram_sequence = token_list[:i+1]\n",
        "      input_sequences.append(n_gram_sequence)\n",
        "\n",
        "  # pad sequences \n",
        "  padded_sequences = pad_sequences(input_sequences, padding = 'pre', maxlen = max_length)\n",
        "\n",
        "  #split sequences to input-label pairs\n",
        "  inputs = padded_sequences[:, :-1]\n",
        "  labels = padded_sequences[:,-1]\n",
        "\n",
        "  #one-hot encode labels\n",
        "  one_hot_encoded_labels = tf.keras.utils.to_categorical(labels, num_classes = total_chars)\n",
        "  return inputs, one_hot_encoded_labels"
      ],
      "execution_count": null,
      "outputs": []
    },
    {
      "cell_type": "code",
      "metadata": {
        "id": "VA7c3GdfBcmC"
      },
      "source": [
        "# call the split_sequences function\n",
        "da_inputs, da_labels = split_sequences(da_sentences, max_len)"
      ],
      "execution_count": null,
      "outputs": []
    },
    {
      "cell_type": "code",
      "metadata": {
        "id": "BO_Uo2HMDy-p"
      },
      "source": [
        "# split the data into trainig, development and test sets\n",
        "da_inputs_train, da_inputs_test, da_labels_train, da_labels_test = train_test_split(da_inputs, da_labels, test_size=0.2, random_state=365)"
      ],
      "execution_count": null,
      "outputs": []
    },
    {
      "cell_type": "code",
      "metadata": {
        "id": "Inju1grGSX18"
      },
      "source": [
        "# build the model\n",
        "tf.keras.optimizers.Adam(learning_rate=0.01)\n",
        "model = tf.keras.Sequential([\n",
        "                             tf.keras.layers.Embedding(total_chars, 256, input_length=da_inputs.shape[1]),\n",
        "                             tf.keras.layers.Bidirectional(tf.keras.layers.LSTM(100)),\n",
        "                             tf.keras.layers.Dense(total_chars, activation = 'softmax')\n",
        "])\n",
        "\n",
        "# compile the model\n",
        "model.compile(loss = 'categorical_crossentropy', optimizer = 'adam', metrics = ['accuracy'])\n",
        "\n",
        "# train the model\n",
        "num_epochs = 10\n",
        "model.fit(da_inputs_train, da_labels_train, validation_data = (da_inputs_test, da_labels_test), epochs = num_epochs, verbose = 2)"
      ],
      "execution_count": null,
      "outputs": []
    },
    {
      "cell_type": "code",
      "metadata": {
        "id": "8EjT4ywJCmPF"
      },
      "source": [
        "# compile the model\n",
        "model.compile(loss = 'categorical_crossentropy', optimizer = 'adam', metrics = ['accuracy'])"
      ],
      "execution_count": null,
      "outputs": []
    },
    {
      "cell_type": "code",
      "metadata": {
        "id": "ZTw-ez2wCtIM",
        "colab": {
          "base_uri": "https://localhost:8080/"
        },
        "outputId": "54f70a8c-ca73-4466-8bb7-a091bc6ad9e4"
      },
      "source": [
        "# train the model\n",
        "num_epochs = 15\n",
        "model.fit(da_inputs_train, da_labels_train, validation_data = (da_inputs_test, da_labels_test), epochs = num_epochs, verbose = 2)"
      ],
      "execution_count": null,
      "outputs": [
        {
          "output_type": "stream",
          "text": [
            "Epoch 1/15\n",
            "3345/3345 - 273s - loss: 2.5734 - accuracy: 0.2944 - val_loss: 2.3169 - val_accuracy: 0.3449\n",
            "Epoch 2/15\n",
            "3345/3345 - 272s - loss: 2.1694 - accuracy: 0.3873 - val_loss: 2.1060 - val_accuracy: 0.4081\n",
            "Epoch 3/15\n",
            "3345/3345 - 270s - loss: 1.9961 - accuracy: 0.4374 - val_loss: 1.9955 - val_accuracy: 0.4453\n",
            "Epoch 4/15\n",
            "3345/3345 - 268s - loss: 1.8880 - accuracy: 0.4682 - val_loss: 1.9285 - val_accuracy: 0.4633\n",
            "Epoch 5/15\n",
            "3345/3345 - 272s - loss: 1.8155 - accuracy: 0.4856 - val_loss: 1.8895 - val_accuracy: 0.4693\n",
            "Epoch 6/15\n",
            "3345/3345 - 272s - loss: 1.7581 - accuracy: 0.5013 - val_loss: 1.8529 - val_accuracy: 0.4852\n",
            "Epoch 7/15\n",
            "3345/3345 - 269s - loss: 1.7127 - accuracy: 0.5117 - val_loss: 1.8334 - val_accuracy: 0.4865\n",
            "Epoch 8/15\n",
            "3345/3345 - 268s - loss: 1.6730 - accuracy: 0.5225 - val_loss: 1.8061 - val_accuracy: 0.4962\n",
            "Epoch 9/15\n",
            "3345/3345 - 274s - loss: 1.6416 - accuracy: 0.5296 - val_loss: 1.7983 - val_accuracy: 0.4980\n",
            "Epoch 10/15\n",
            "3345/3345 - 271s - loss: 1.6125 - accuracy: 0.5374 - val_loss: 1.7800 - val_accuracy: 0.5031\n",
            "Epoch 11/15\n",
            "3345/3345 - 268s - loss: 1.5874 - accuracy: 0.5440 - val_loss: 1.7747 - val_accuracy: 0.5082\n",
            "Epoch 12/15\n",
            "3345/3345 - 268s - loss: 1.5655 - accuracy: 0.5494 - val_loss: 1.7697 - val_accuracy: 0.5088\n",
            "Epoch 13/15\n",
            "3345/3345 - 268s - loss: 1.5463 - accuracy: 0.5532 - val_loss: 1.7633 - val_accuracy: 0.5119\n",
            "Epoch 14/15\n",
            "3345/3345 - 267s - loss: 1.5287 - accuracy: 0.5594 - val_loss: 1.7679 - val_accuracy: 0.5115\n",
            "Epoch 15/15\n",
            "3345/3345 - 267s - loss: 1.5118 - accuracy: 0.5633 - val_loss: 1.7614 - val_accuracy: 0.5135\n"
          ],
          "name": "stdout"
        },
        {
          "output_type": "execute_result",
          "data": {
            "text/plain": [
              "<tensorflow.python.keras.callbacks.History at 0x7faa68843f28>"
            ]
          },
          "metadata": {
            "tags": []
          },
          "execution_count": 31
        }
      ]
    },
    {
      "cell_type": "markdown",
      "metadata": {
        "id": "SGJUyYrpCxzN"
      },
      "source": [
        "# **Inference to Determine Author**"
      ]
    },
    {
      "cell_type": "code",
      "metadata": {
        "id": "ghWzmghGC2FX"
      },
      "source": [
        "# set propotions to display all elements of arrays\n",
        "import sys\n",
        "np.set_printoptions(threshold=sys.maxsize)"
      ],
      "execution_count": null,
      "outputs": []
    },
    {
      "cell_type": "code",
      "metadata": {
        "id": "hGbn6SUfC7sz",
        "colab": {
          "base_uri": "https://localhost:8080/"
        },
        "outputId": "37c37432-8621-4524-862b-c764305548f6"
      },
      "source": [
        "# display sample of the input\n",
        "da_inputs_test[0]"
      ],
      "execution_count": null,
      "outputs": [
        {
          "output_type": "execute_result",
          "data": {
            "text/plain": [
              "array([ 0,  0,  0,  0,  0,  0,  0,  0,  0,  0,  0,  0,  0,  0,  0,  0,  0,\n",
              "        0,  0,  0,  0,  0,  0,  0,  0,  0,  0,  0,  0,  0,  0,  0,  0,  0,\n",
              "        0,  0,  0,  0,  0,  0,  0,  0,  0,  0,  0,  0,  0,  0,  0,  0,  0,\n",
              "        0,  0,  0,  0,  0,  0,  0,  0,  0,  0,  0,  0,  0,  0,  0,  0,  0,\n",
              "        0,  0,  0,  0,  0,  0,  0,  0,  0,  0,  0,  0,  0,  0,  0,  0,  0,\n",
              "        0,  0,  0,  0,  0,  0,  0,  0,  0,  0,  0,  0,  0,  0,  0,  0,  0,\n",
              "        0,  0,  0,  0,  0,  0,  0,  0,  0,  0,  0,  0,  0,  0,  0,  0,  0,\n",
              "        0,  0,  0,  0,  0,  0,  0,  0,  0,  0,  0,  0,  0,  0,  0,  0,  0,\n",
              "        0,  0,  0,  0,  0,  0,  0,  0,  0,  0,  0,  0,  0,  0,  0,  0,  0,\n",
              "        0,  0,  0,  0,  0,  0,  0,  0,  0,  0,  0,  0,  0,  0,  0,  0,  0,\n",
              "        0,  0,  0,  0,  0,  0,  0,  0,  0,  0,  0,  0,  0,  0,  0,  0,  0,\n",
              "        0,  0,  0,  0,  0,  0,  0,  0,  0,  0,  0,  0,  0,  0,  0,  0,  0,\n",
              "        0,  0,  0,  0,  0,  0,  0,  0,  0,  0,  0,  0,  0,  0,  0,  0,  0,\n",
              "        0,  0,  0,  0,  0,  0,  0,  0,  0,  0,  0,  0,  0,  0,  0,  0,  0,\n",
              "        0,  0,  0,  0,  0,  0,  0,  0,  0,  0,  0,  0,  0,  0,  0,  0,  0,\n",
              "        0,  0,  0,  0,  0,  0,  0,  0,  0,  0,  0,  0,  0,  0,  0,  0,  0,\n",
              "        0,  0,  0,  0,  0,  0,  0,  0,  0,  0,  0,  0,  0,  0,  0,  0,  0,\n",
              "        0,  0,  0,  0,  0,  0,  0,  0,  0,  0,  0,  0,  0,  0,  0,  0,  0,\n",
              "        0,  0,  0,  0,  0,  0,  0,  0,  0,  0,  0,  0,  0,  0,  0,  0,  0,\n",
              "        0,  0,  0,  0,  0,  0,  0,  0,  0,  0,  0,  0,  0,  0,  0,  0,  0,\n",
              "        0,  0,  0,  0,  0,  0,  0,  0,  0,  0,  0,  0,  0,  0,  0,  0,  0,\n",
              "        0,  0,  0,  0,  0,  0,  0,  0,  0,  0,  0,  0,  0,  0,  0,  0,  0,\n",
              "        0,  0,  0,  0,  0,  0,  0,  0,  0,  0,  0,  0,  0,  0,  0,  0,  0,\n",
              "        0,  0,  0,  0,  0,  0,  0,  0,  0,  0,  0,  0,  0,  0,  0,  0,  0,\n",
              "        0,  0,  0,  0,  0,  0,  0,  0,  0,  0,  0,  0,  0,  0,  0,  0,  0,\n",
              "        0,  0,  0,  0,  0,  0,  0,  0,  0,  0,  0,  0,  0,  0,  0,  0,  0,\n",
              "        0,  0,  0,  0,  0,  0,  0,  0,  0,  0,  0,  0,  0,  0,  0,  0,  0,\n",
              "        0,  0,  0,  0,  0,  0,  0,  0,  0,  0,  0,  0,  0,  0,  0,  0,  0,\n",
              "        0,  0,  0,  0,  0,  0,  0,  0,  0,  0,  0,  0,  0,  0,  0,  0,  0,\n",
              "        0,  0,  0,  0,  0,  0,  0,  0,  0,  0,  0,  0,  0,  0,  0,  0,  0,\n",
              "        0,  0,  0,  0,  0,  0,  0,  0,  0,  0,  0,  0,  0,  0,  0,  0,  0,\n",
              "        0,  0,  0,  0,  0,  0,  0,  0,  0,  0,  0,  0,  0,  0,  0,  0,  0,\n",
              "        0,  0,  0,  0,  0,  0,  0,  0,  0,  0,  0,  0,  0,  0,  0,  0,  0,\n",
              "        0,  0,  0,  0,  0,  0,  0,  0,  0,  0,  0,  0,  0,  0,  0,  0,  0,\n",
              "        0,  0,  0,  0,  0,  0,  0,  0,  0,  0,  0,  0,  0,  0,  0,  0,  0,\n",
              "        0,  0,  0,  0,  0,  0,  0,  0,  0,  0,  0,  0,  0,  0,  0,  0,  0,\n",
              "        0,  0,  0,  0,  0,  0,  0,  0,  0,  0,  0,  0,  0,  0,  0,  0,  0,\n",
              "        0,  0,  0,  0,  0,  0,  0,  0,  0,  0,  0,  0,  0,  0,  0,  0,  0,\n",
              "        0,  0,  0,  0,  0,  0,  0,  0,  0,  0,  0,  0,  0,  0,  0,  0,  0,\n",
              "        0,  0,  0,  0,  0,  0,  0,  0,  0,  0,  0,  0,  0,  0,  0,  0,  0,\n",
              "        0,  0,  0,  0,  0,  0,  0,  0,  0,  0,  0,  0,  0,  0,  0,  0,  0,\n",
              "        0,  0,  0,  0,  0,  0,  0,  0,  0,  0,  0,  0,  0,  0,  0,  0,  0,\n",
              "        0,  0,  0,  0,  0,  0,  0,  0,  0,  0,  0,  0,  0,  0,  0,  0,  0,\n",
              "        0,  0,  0,  0,  0,  0,  0,  0,  0,  0,  0,  0,  0,  0,  0,  0,  0,\n",
              "        0,  0,  0,  0,  0,  0,  0,  0,  0,  0,  0,  0,  0,  0,  0,  0,  0,\n",
              "        0,  0,  0,  0,  0,  0,  0,  0,  0,  0,  0,  0,  0,  0,  0,  0,  0,\n",
              "        0,  0,  0,  0,  0,  0,  0,  0,  0,  0,  0,  0,  0,  0,  0,  0,  0,\n",
              "        0,  0,  0,  0,  0,  0,  0,  0,  0,  0,  0,  0, 14, 18,  5, 19, 20,\n",
              "        3,  6,  9,  4,  7, 10,  2,  6,  5,  2, 34, 24,  5, 24,  5,  3,  2,\n",
              "       26,  5, 18, 14,  3,  2, 12, 11,  5,  3,  2, 25, 30, 17,  4,  6,  4,\n",
              "        7,  8,  6, 19,  2, 50,  8,  9, 10,  8,  9,  2, 34,  5, 16, 12,  4,\n",
              "        2, 25,  6, 20,  2,  5,  4], dtype=int32)"
            ]
          },
          "metadata": {
            "tags": []
          },
          "execution_count": 33
        }
      ]
    },
    {
      "cell_type": "code",
      "metadata": {
        "id": "cioQfu6IDCwp",
        "colab": {
          "base_uri": "https://localhost:8080/"
        },
        "outputId": "9d3a0459-6932-4a80-81f6-5d13fd10a2b1"
      },
      "source": [
        "# display a sample of the labels\n",
        "da_labels_test[0]"
      ],
      "execution_count": null,
      "outputs": [
        {
          "output_type": "execute_result",
          "data": {
            "text/plain": [
              "array([0., 0., 0., 0., 0., 0., 1., 0., 0., 0., 0., 0., 0., 0., 0., 0., 0.,\n",
              "       0., 0., 0., 0., 0., 0., 0., 0., 0., 0., 0., 0., 0., 0., 0., 0., 0.,\n",
              "       0., 0., 0., 0., 0., 0., 0., 0., 0., 0., 0., 0., 0., 0., 0., 0., 0.,\n",
              "       0., 0., 0., 0., 0., 0., 0., 0., 0., 0., 0., 0., 0., 0., 0., 0., 0.,\n",
              "       0., 0., 0., 0., 0., 0., 0., 0., 0., 0., 0., 0., 0., 0., 0., 0., 0.,\n",
              "       0., 0., 0., 0., 0., 0., 0., 0., 0., 0., 0., 0., 0., 0., 0., 0., 0.,\n",
              "       0., 0., 0., 0., 0., 0., 0., 0., 0., 0., 0., 0., 0., 0., 0., 0., 0.,\n",
              "       0., 0., 0., 0., 0., 0., 0., 0., 0., 0., 0.], dtype=float32)"
            ]
          },
          "metadata": {
            "tags": []
          },
          "execution_count": 34
        }
      ]
    },
    {
      "cell_type": "code",
      "metadata": {
        "id": "o2Kz2dT6DXNi"
      },
      "source": [
        "# run the test set through the model\n",
        "predictions = model.predict(da_inputs_test)"
      ],
      "execution_count": null,
      "outputs": []
    },
    {
      "cell_type": "code",
      "metadata": {
        "id": "gLLjmdMCDZZP",
        "colab": {
          "base_uri": "https://localhost:8080/"
        },
        "outputId": "93de07ce-c5af-4af6-980b-f8637f323bb2"
      },
      "source": [
        "# display a sample of the predictions\n",
        "da_predictions_1[0]"
      ],
      "execution_count": null,
      "outputs": [
        {
          "output_type": "execute_result",
          "data": {
            "text/plain": [
              "array([2.14547668e-11, 4.02363629e-11, 1.85691612e-03, 8.60025295e-07,\n",
              "       2.93416588e-06, 7.89324939e-03, 5.96828461e-02, 6.23750612e-02,\n",
              "       3.36427502e-06, 2.15546712e-01, 9.05502662e-02, 1.16720200e-02,\n",
              "       2.50178259e-02, 1.22292235e-07, 2.27146566e-01, 6.92020431e-02,\n",
              "       3.62038612e-02, 7.86939263e-02, 3.83093209e-07, 1.03772095e-06,\n",
              "       3.32110957e-03, 5.28656654e-02, 7.21674040e-03, 1.20446693e-05,\n",
              "       1.46354487e-05, 2.55892146e-03, 3.87656364e-05, 7.97151006e-06,\n",
              "       1.11637800e-03, 1.77011505e-04, 2.63018183e-06, 3.89998604e-06,\n",
              "       7.13964141e-08, 6.64611289e-04, 2.23737501e-04, 1.96512308e-04,\n",
              "       2.64638658e-07, 1.81666028e-03, 7.85416034e-08, 1.98904495e-03,\n",
              "       3.44035356e-10, 1.15423127e-09, 3.70557085e-02, 2.28801160e-03,\n",
              "       5.06895717e-08, 1.04747687e-06, 3.45113076e-05, 1.24703533e-07,\n",
              "       1.71337805e-10, 1.01156149e-06, 4.58127790e-04, 3.65306813e-11,\n",
              "       2.89063813e-04, 5.05194566e-06, 7.59179173e-08, 2.28624685e-06,\n",
              "       5.94971534e-05, 3.52091512e-08, 1.18746839e-05, 4.73102801e-08,\n",
              "       1.40640041e-04, 4.93522793e-06, 3.21610045e-04, 5.43082206e-06,\n",
              "       2.23302081e-07, 9.95483242e-06, 8.87646970e-11, 9.57285738e-06,\n",
              "       7.30937472e-07, 2.08312194e-05, 2.52057987e-07, 3.79345515e-08,\n",
              "       1.17356729e-08, 1.49964195e-04, 1.48593108e-06, 2.11452847e-04,\n",
              "       5.90776668e-13, 1.21176166e-10, 5.73718353e-05, 3.07586623e-09,\n",
              "       1.11621493e-05, 3.60273411e-08, 3.25016764e-10, 1.10856391e-09,\n",
              "       9.95693981e-08, 2.89568720e-06, 2.30537770e-14, 1.11762754e-04,\n",
              "       3.45413537e-06, 8.12223618e-07, 2.58172115e-08, 2.89467478e-11,\n",
              "       1.50272410e-06, 4.52533548e-08, 4.36430581e-09, 5.86020565e-09,\n",
              "       2.88312586e-11, 7.84875203e-12, 3.54292706e-06, 1.97427568e-07,\n",
              "       5.88038296e-04, 2.44837678e-10, 1.44947046e-06, 1.69362233e-11,\n",
              "       1.59212235e-07, 4.22898229e-05, 8.06736275e-11, 3.02117314e-07,\n",
              "       1.54851937e-10, 1.62016238e-06, 3.80391754e-08, 3.65880393e-09,\n",
              "       1.61975606e-06, 5.91164235e-06, 2.46857326e-06, 1.33666833e-09,\n",
              "       2.35792119e-09, 1.36550049e-10, 2.32656125e-12, 2.83613775e-11,\n",
              "       7.10603312e-11, 3.96909831e-11, 3.29813260e-11, 7.25052315e-16,\n",
              "       2.79208757e-11, 2.82313795e-06, 1.25647296e-11, 1.82287536e-11,\n",
              "       3.08675932e-11, 3.44466539e-11], dtype=float32)"
            ]
          },
          "metadata": {
            "tags": []
          },
          "execution_count": 36
        }
      ]
    },
    {
      "cell_type": "code",
      "metadata": {
        "id": "VhYW2-srDDgR",
        "colab": {
          "base_uri": "https://localhost:8080/"
        },
        "outputId": "4246c7b5-b84d-485d-b5a3-3224646bace4"
      },
      "source": [
        "# display output of multiplying and then summing a prediction with relevant label\n",
        "np.sum(predictions[1] * da_labels_test[1])"
      ],
      "execution_count": null,
      "outputs": [
        {
          "output_type": "execute_result",
          "data": {
            "text/plain": [
              "0.7927079"
            ]
          },
          "metadata": {
            "tags": []
          },
          "execution_count": 37
        }
      ]
    },
    {
      "cell_type": "code",
      "metadata": {
        "id": "0hTyfPkO8qNF"
      },
      "source": [
        "# define fuction to calculate perplexity\n",
        "def calculate_perplexity(predictions, labels):\n",
        "  log_probabilities = []\n",
        "  # calculate log probabilities of all predictions\n",
        "  for i in range(0, len(predictions)):\n",
        "    log_prob = np.log(np.sum(predictions[i] * labels[i]))\n",
        "    log_probabilities.append(log_prob)\n",
        "\n",
        "  # sum all log probabilities\n",
        "  sum_log_probabilities = np.sum(log_probabilities)\n",
        "  # calculate per char log probability\n",
        "  per_char_log_probability = sum_log_probabilities / len(predictions)\n",
        "  # calculate perplexity\n",
        "  perplexity = 1 / (np.exp(per_char_log_probability))\n",
        "  return perplexity"
      ],
      "execution_count": null,
      "outputs": []
    },
    {
      "cell_type": "code",
      "metadata": {
        "id": "JW3XmJ_w94dr",
        "colab": {
          "base_uri": "https://localhost:8080/"
        },
        "outputId": "bf5883da-6dbd-4655-cad0-7741bf36f5ba"
      },
      "source": [
        "# call the calculate_perplexity() function\n",
        "calculate_perplexity(predictions, da_labels_test)"
      ],
      "execution_count": null,
      "outputs": [
        {
          "output_type": "execute_result",
          "data": {
            "text/plain": [
              "5.8207022063371205"
            ]
          },
          "metadata": {
            "tags": []
          },
          "execution_count": 39
        }
      ]
    },
    {
      "cell_type": "code",
      "metadata": {
        "id": "OlubXztD6tWq"
      },
      "source": [
        "aa_inputs, aa_labels = split_sequences(aa_sentences, max_len)"
      ],
      "execution_count": null,
      "outputs": []
    },
    {
      "cell_type": "code",
      "metadata": {
        "id": "fOjmaNOp96zk"
      },
      "source": [
        "aa_predictions = model.predict(aa_inputs)"
      ],
      "execution_count": null,
      "outputs": []
    },
    {
      "cell_type": "code",
      "metadata": {
        "id": "RuYcc8FC-dV4",
        "colab": {
          "base_uri": "https://localhost:8080/"
        },
        "outputId": "eb08ed34-0684-4a6d-8952-cff302d6a2e8"
      },
      "source": [
        "calculate_perplexity(aa_predictions, aa_labels)"
      ],
      "execution_count": null,
      "outputs": [
        {
          "output_type": "execute_result",
          "data": {
            "text/plain": [
              "10.691520144006034"
            ]
          },
          "metadata": {
            "tags": []
          },
          "execution_count": 42
        }
      ]
    },
    {
      "cell_type": "code",
      "metadata": {
        "id": "4IaMLO-4-k7s"
      },
      "source": [
        "lk_inputs, lk_labels = split_sequences(lk_sentences, max_len)"
      ],
      "execution_count": null,
      "outputs": []
    },
    {
      "cell_type": "code",
      "metadata": {
        "id": "TErPfHaH-5kg"
      },
      "source": [
        "lk_predictions = model.predict(lk_inputs)"
      ],
      "execution_count": null,
      "outputs": []
    },
    {
      "cell_type": "code",
      "metadata": {
        "id": "_lfb6qIT_Fb6",
        "colab": {
          "base_uri": "https://localhost:8080/"
        },
        "outputId": "282c527e-d4a2-400b-f962-947328ee4601"
      },
      "source": [
        "calculate_perplexity(lk_predictions, lk_labels)"
      ],
      "execution_count": null,
      "outputs": [
        {
          "output_type": "execute_result",
          "data": {
            "text/plain": [
              "8.143039716148575"
            ]
          },
          "metadata": {
            "tags": []
          },
          "execution_count": 45
        }
      ]
    },
    {
      "cell_type": "code",
      "metadata": {
        "id": "7rq3L5v-GAHX",
        "colab": {
          "base_uri": "https://localhost:8080/"
        },
        "outputId": "48dc55f5-5dcd-48f2-ac30-feea07902b73"
      },
      "source": [
        "model.summary()"
      ],
      "execution_count": null,
      "outputs": [
        {
          "output_type": "stream",
          "text": [
            "Model: \"sequential\"\n",
            "_________________________________________________________________\n",
            "Layer (type)                 Output Shape              Param #   \n",
            "=================================================================\n",
            "embedding (Embedding)        (None, 874, 256)          33280     \n",
            "_________________________________________________________________\n",
            "bidirectional (Bidirectional (None, 200)               285600    \n",
            "_________________________________________________________________\n",
            "dense (Dense)                (None, 130)               26130     \n",
            "=================================================================\n",
            "Total params: 345,010\n",
            "Trainable params: 345,010\n",
            "Non-trainable params: 0\n",
            "_________________________________________________________________\n"
          ],
          "name": "stdout"
        }
      ]
    },
    {
      "cell_type": "code",
      "metadata": {
        "id": "dMUlYyLerk9z",
        "colab": {
          "base_uri": "https://localhost:8080/"
        },
        "outputId": "d1f32b0e-4330-4a74-9960-8e3905af4bd8"
      },
      "source": [
        "#save the model\n",
        "model.save('da_char_model')"
      ],
      "execution_count": null,
      "outputs": [
        {
          "output_type": "stream",
          "text": [
            "WARNING:tensorflow:From /usr/local/lib/python3.6/dist-packages/tensorflow/python/training/tracking/tracking.py:111: Model.state_updates (from tensorflow.python.keras.engine.training) is deprecated and will be removed in a future version.\n",
            "Instructions for updating:\n",
            "This property should not be used in TensorFlow 2.0, as updates are applied automatically.\n",
            "WARNING:tensorflow:From /usr/local/lib/python3.6/dist-packages/tensorflow/python/training/tracking/tracking.py:111: Layer.updates (from tensorflow.python.keras.engine.base_layer) is deprecated and will be removed in a future version.\n",
            "Instructions for updating:\n",
            "This property should not be used in TensorFlow 2.0, as updates are applied automatically.\n",
            "INFO:tensorflow:Assets written to: da_char_model/assets\n"
          ],
          "name": "stdout"
        }
      ]
    }
  ]
}